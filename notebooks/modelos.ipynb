{
 "cells": [
  {
   "cell_type": "markdown",
   "id": "lPDxR_oRqDor",
   "metadata": {
    "id": "lPDxR_oRqDor"
   },
   "source": [
    "#**Amazon Book Reviews**\n",
    "\n",
    "El dataset a utilizar durante el proyecto es ‘Amazon Book Reviews’ proveniente de la\n",
    "plataforma Kaggle, se encuentra disponible en el siguiente enlace:\n",
    "https://www.kaggle.com/datasets/mohamedbakhet/amazon-books-reviews/data.\n",
    "\n",
    "Este conjunto de datos fue construido a partir de dos fuentes principales: la primera\n",
    "fuente es el repositorio de datos de Amazon de la Universidad de California en San\n",
    "Diego (UCSD),  La segunda fuente corresponde a datos obtenidos a través de la\n",
    "API de Google Books.\n",
    "\n",
    "En cuanto al tamaño global, el dataset se compone de dos archivos principales:\n",
    "books_data.csv, con un tamaño aproximado de 181.3 MB, y books_rating.csv, con un\n",
    "tamaño aproximado de 2.86 GB\n",
    "\n",
    "Los datasets books_data y books_rating ofrecen información complementaria sobre\n",
    "libros disponibles en Amazon y las reseñas realizadas por los usuarios. A continuación\n",
    "se presenta una descripción general de cada uno de los datasets:\n",
    "\n",
    "**books_data.csv (Metadatos de los libros):**\n",
    "Este dataset contiene metadatos como título, autor, categoría, número de valoraciones,\n",
    "descripción, fecha de publicación. En cuanto a su estructura cuenta con 212,404\n",
    "registros y 10 columnas.\n",
    "\n",
    "**books_rating.csv (Reseñas de Usuarios):** Este dataset tiene un enfoque en las opiniones de los usuarios que incluyen:\n",
    "puntuaciones, reseñas, ID de usuario y nombre de perfil. En cuanto a su estructura\n",
    "cuenta con 3,000,000 de registros distribuidos en 10 columnas\n"
   ]
  },
  {
   "cell_type": "markdown",
   "id": "NkMzYttSrBBJ",
   "metadata": {
    "id": "NkMzYttSrBBJ",
    "jp-MarkdownHeadingCollapsed": true
   },
   "source": [
    "# **Proyecto | lectura, escritura, archivos de Big Data PySpark**"
   ]
  },
  {
   "cell_type": "markdown",
   "id": "NbRnvX01qH_o",
   "metadata": {
    "id": "NbRnvX01qH_o"
   },
   "source": []
  },
  {
   "cell_type": "markdown",
   "id": "tB7I-i_83QLW",
   "metadata": {
    "id": "tB7I-i_83QLW"
   },
   "source": [
    "## **CARGA DE ARCHIVOS**"
   ]
  },
  {
   "cell_type": "code",
   "execution_count": 2,
   "id": "6698d2b8",
   "metadata": {
    "id": "6698d2b8"
   },
   "outputs": [],
   "source": [
    "from pyspark.sql import SparkSession\n",
    "from pyspark.sql.functions import col, count, when, to_date\n",
    "from pyspark.sql.types import DoubleType\n",
    "\n",
    "spark = SparkSession.builder.appName(\"AmazonBooksEDA\").getOrCreate()\n",
    "\n",
    "# Carga de archivos\n",
    "books_df = spark.read.option(\"header\", True).option(\"inferSchema\", True).csv(\"books_data.csv\")\n",
    "ratings_df = spark.read.option(\"header\", True).option(\"inferSchema\", True).csv(\"Books_rating.csv\")\n",
    "\n"
   ]
  },
  {
   "cell_type": "code",
   "execution_count": 3,
   "id": "50b06258",
   "metadata": {
    "colab": {
     "base_uri": "https://localhost:8080/"
    },
    "id": "50b06258",
    "outputId": "bbb52fbd-efac-40d5-db97-97830734c79e"
   },
   "outputs": [
    {
     "name": "stdout",
     "output_type": "stream",
     "text": [
      "books_data.csv:\n",
      "+--------------------+--------------------+--------------------+--------------------+--------------------+--------------------+--------------+--------------------+--------------------+------------+\n",
      "|               Title|         description|             authors|               image|         previewLink|           publisher| publishedDate|            infoLink|          categories|ratingsCount|\n",
      "+--------------------+--------------------+--------------------+--------------------+--------------------+--------------------+--------------+--------------------+--------------------+------------+\n",
      "|Its Only Art If I...|                NULL|    ['Julie Strain']|http://books.goog...|http://books.goog...|                NULL|          1996|http://books.goog...|['Comics & Graphi...|        NULL|\n",
      "|Dr. Seuss: Americ...|\"Philip Nel takes...| like that of Lew...| has changed lang...| giving us new wo...| inspiring artist...|['Philip Nel']|http://books.goog...|http://books.goog...|   A&C Black|\n",
      "|Wonderful Worship...|This resource inc...|    ['David R. Ray']|http://books.goog...|http://books.goog...|                NULL|          2000|http://books.goog...|        ['Religion']|        NULL|\n",
      "|Whispers of the W...|Julia Thomas find...| ['Veronica Haddon']|http://books.goog...|http://books.goog...|           iUniverse|       2005-02|http://books.goog...|         ['Fiction']|        NULL|\n",
      "|Nation Dance: Rel...|                NULL|     ['Edward Long']|                NULL|http://books.goog...|                NULL|    2003-03-01|http://books.goog...|                NULL|        NULL|\n",
      "+--------------------+--------------------+--------------------+--------------------+--------------------+--------------------+--------------+--------------------+--------------------+------------+\n",
      "only showing top 5 rows\n",
      "\n",
      "root\n",
      " |-- Title: string (nullable = true)\n",
      " |-- description: string (nullable = true)\n",
      " |-- authors: string (nullable = true)\n",
      " |-- image: string (nullable = true)\n",
      " |-- previewLink: string (nullable = true)\n",
      " |-- publisher: string (nullable = true)\n",
      " |-- publishedDate: string (nullable = true)\n",
      " |-- infoLink: string (nullable = true)\n",
      " |-- categories: string (nullable = true)\n",
      " |-- ratingsCount: string (nullable = true)\n",
      "\n",
      "\n",
      "Books_rating.csv:\n",
      "+----------+--------------------+-----+--------------+--------------------+------------------+------------+-----------+--------------------+--------------------+\n",
      "|        Id|               Title|Price|       User_id|         profileName|review/helpfulness|review/score|review/time|      review/summary|         review/text|\n",
      "+----------+--------------------+-----+--------------+--------------------+------------------+------------+-----------+--------------------+--------------------+\n",
      "|1882931173|Its Only Art If I...| NULL| AVCGYZL8FQQTD|\"Jim of Oz \"\"jim-...|               7/7|         4.0|  940636800|Nice collection o...|This is only for ...|\n",
      "|0826414346|Dr. Seuss: Americ...| NULL|A30TK6U7DNS82R|       Kevin Killian|             10/10|         5.0| 1095724800|   Really Enjoyed It|I don't care much...|\n",
      "|0826414346|Dr. Seuss: Americ...| NULL|A3UH4UZ4RSVO82|        John Granger|             10/11|         5.0| 1078790400|Essential for eve...|\"If people become...|\n",
      "|0826414346|Dr. Seuss: Americ...| NULL|A2MVUWT453QH61|\"Roy E. Perry \"\"a...|               7/7|         4.0| 1090713600|Phlip Nel gives s...|Theodore Seuss Ge...|\n",
      "|0826414346|Dr. Seuss: Americ...| NULL|A22X4XUPKF66MR|\"D. H. Richards \"...|               3/3|         4.0| 1107993600|Good academic ove...|\"Philip Nel - Dr....|\n",
      "+----------+--------------------+-----+--------------+--------------------+------------------+------------+-----------+--------------------+--------------------+\n",
      "only showing top 5 rows\n",
      "\n",
      "root\n",
      " |-- Id: string (nullable = true)\n",
      " |-- Title: string (nullable = true)\n",
      " |-- Price: string (nullable = true)\n",
      " |-- User_id: string (nullable = true)\n",
      " |-- profileName: string (nullable = true)\n",
      " |-- review/helpfulness: string (nullable = true)\n",
      " |-- review/score: string (nullable = true)\n",
      " |-- review/time: string (nullable = true)\n",
      " |-- review/summary: string (nullable = true)\n",
      " |-- review/text: string (nullable = true)\n",
      "\n"
     ]
    }
   ],
   "source": [
    "print(\"books_data.csv:\")\n",
    "books_df.show(5)\n",
    "books_df.printSchema()\n",
    "\n",
    "print(\"\\nBooks_rating.csv:\")\n",
    "ratings_df.show(5)\n",
    "ratings_df.printSchema()\n"
   ]
  },
  {
   "cell_type": "code",
   "execution_count": 4,
   "id": "a71a0521-85f5-437a-843e-a69699ce9a6c",
   "metadata": {
    "colab": {
     "base_uri": "https://localhost:8080/"
    },
    "id": "a71a0521-85f5-437a-843e-a69699ce9a6c",
    "outputId": "db742ba9-af9d-4a08-d6f1-8c4dc6cc97ac"
   },
   "outputs": [
    {
     "name": "stdout",
     "output_type": "stream",
     "text": [
      "books_data.csv:\n",
      "root\n",
      " |-- Title: string (nullable = true)\n",
      " |-- description: string (nullable = true)\n",
      " |-- authors: string (nullable = true)\n",
      " |-- image: string (nullable = true)\n",
      " |-- previewLink: string (nullable = true)\n",
      " |-- publisher: string (nullable = true)\n",
      " |-- publishedDate: date (nullable = true)\n",
      " |-- infoLink: string (nullable = true)\n",
      " |-- categories: string (nullable = true)\n",
      " |-- ratingsCount: integer (nullable = true)\n",
      "\n",
      "\n",
      "Books_rating.csv:\n",
      "root\n",
      " |-- Id: string (nullable = true)\n",
      " |-- Title: string (nullable = true)\n",
      " |-- Price: string (nullable = true)\n",
      " |-- User_id: string (nullable = true)\n",
      " |-- profileName: string (nullable = true)\n",
      " |-- review/helpfulness: string (nullable = true)\n",
      " |-- review/score: double (nullable = true)\n",
      " |-- review/time: string (nullable = true)\n",
      " |-- review/summary: string (nullable = true)\n",
      " |-- review/text: string (nullable = true)\n",
      "\n"
     ]
    }
   ],
   "source": [
    "books_df = books_df.withColumn(\"publishedDate\", to_date(col(\"publishedDate\"))) \\\n",
    "                   .withColumn(\"ratingsCount\", col(\"ratingsCount\").cast(\"integer\"))\n",
    "\n",
    "ratings_df = ratings_df.withColumn(\"review/score\", col(\"review/score\").cast(DoubleType()))\n",
    "\n",
    "print(\"books_data.csv:\")\n",
    "books_df.printSchema()\n",
    "\n",
    "print(\"\\nBooks_rating.csv:\")\n",
    "ratings_df.printSchema()"
   ]
  },
  {
   "cell_type": "code",
   "execution_count": 5,
   "id": "85670131",
   "metadata": {
    "colab": {
     "base_uri": "https://localhost:8080/"
    },
    "id": "85670131",
    "outputId": "8622a419-6d92-401d-f525-9c2d21daa580"
   },
   "outputs": [
    {
     "name": "stdout",
     "output_type": "stream",
     "text": [
      "books_data.csv - filas: 212404 columnas: 10\n",
      "Books_rating.csv - filas: 324662 columnas: 10\n"
     ]
    }
   ],
   "source": [
    "print(\"books_data.csv - filas:\", books_df.count(), \"columnas:\", len(books_df.columns))\n",
    "print(\"Books_rating.csv - filas:\", ratings_df.count(), \"columnas:\", len(ratings_df.columns))\n"
   ]
  },
  {
   "cell_type": "code",
   "execution_count": 6,
   "id": "d283b8aa",
   "metadata": {
    "colab": {
     "base_uri": "https://localhost:8080/"
    },
    "id": "d283b8aa",
    "outputId": "e67af48e-195f-4dda-b9aa-78b0a6ed09f1"
   },
   "outputs": [
    {
     "name": "stdout",
     "output_type": "stream",
     "text": [
      "Valores nulos en books_data.csv:\n",
      "+-----+-----------+-------+-----+-----------+---------+-------------+--------+----------+------------+\n",
      "|Title|description|authors|image|previewLink|publisher|publishedDate|infoLink|categories|ratingsCount|\n",
      "+-----+-----------+-------+-----+-----------+---------+-------------+--------+----------+------------+\n",
      "|    1|      68357|  31251|51191|      24055|    73130|        46999|   24301|     40524|      168972|\n",
      "+-----+-----------+-------+-----+-----------+---------+-------------+--------+----------+------------+\n",
      "\n",
      "Valores nulos en Books_rating.csv:\n",
      "+---+-----+------+-------+-----------+------------------+------------+-----------+--------------+-----------+\n",
      "| Id|Title| Price|User_id|profileName|review/helpfulness|review/score|review/time|review/summary|review/text|\n",
      "+---+-----+------+-------+-----------+------------------+------------+-----------+--------------+-----------+\n",
      "|  0|    1|269540|  62920|      62909|                20|        1894|          5|             8|          6|\n",
      "+---+-----+------+-------+-----------+------------------+------------+-----------+--------------+-----------+\n",
      "\n"
     ]
    }
   ],
   "source": [
    "print(\"Valores nulos en books_data.csv:\")\n",
    "books_df.select([count(when(col(c).isNull(), c)).alias(c) for c in books_df.columns]).show()\n",
    "\n",
    "print(\"Valores nulos en Books_rating.csv:\")\n",
    "ratings_df.select([count(when(col(c).isNull(), c)).alias(c) for c in ratings_df.columns]).show()\n",
    "\n"
   ]
  },
  {
   "cell_type": "code",
   "execution_count": 7,
   "id": "7d69575f",
   "metadata": {
    "colab": {
     "base_uri": "https://localhost:8080/"
    },
    "id": "7d69575f",
    "outputId": "b68ab2b3-1033-4a2b-ee12-bc4235511de7"
   },
   "outputs": [
    {
     "name": "stdout",
     "output_type": "stream",
     "text": [
      "Estadísticas books_data.csv:\n",
      "+-------+--------------------+--------------------+--------------------+--------------------+--------------------+--------------------+--------------------+--------------------+------------------+\n",
      "|summary|               Title|         description|             authors|               image|         previewLink|           publisher|            infoLink|          categories|      ratingsCount|\n",
      "+-------+--------------------+--------------------+--------------------+--------------------+--------------------+--------------------+--------------------+--------------------+------------------+\n",
      "|  count|              212403|              144047|              181153|              161213|              188349|              139274|              188103|              171880|             43432|\n",
      "|   mean|   3823.672941176471|  1.4285714285714286|              1578.4|              1184.0|            Infinity|             3734.75|   1989.054693877551|  1983.7334777898159| 56.31520537852275|\n",
      "| stddev|  10717.999589636447|  0.9759000729485333|  1278.7901502106834|   959.3546076180041|                 NaN|  10193.316327911614|   94.83861134693096|  142.43423125699226|329.20879859753774|\n",
      "|    min|  \"\"\" Film technique|              \"\" and| \"\" \"\"I'm a Littl...| \"\" \"\"In Honor of...| \"\" \"\"The Barefoo...| \"\" \"\"Skipper Ire...| \"\" Rawlins says....| \"\" Knox's quirky...|                 1|\n",
      "|    max|you can do anythi...|�Una novela llam�...|” “Jeanie with th...|” “sexual napalm…...|” headlines eight...|                펜립|        秀和システム|�� folk art is a ...|              4572|\n",
      "+-------+--------------------+--------------------+--------------------+--------------------+--------------------+--------------------+--------------------+--------------------+------------------+\n",
      "\n",
      "Ratings únicos en books_data.csv:\n",
      "+------------+\n",
      "|ratingsCount|\n",
      "+------------+\n",
      "|         148|\n",
      "|        1959|\n",
      "|        1990|\n",
      "|        2580|\n",
      "|        3179|\n",
      "|        1896|\n",
      "|        2811|\n",
      "|        1483|\n",
      "|          31|\n",
      "|          85|\n",
      "|         137|\n",
      "|        3089|\n",
      "|        3876|\n",
      "|        1884|\n",
      "|          65|\n",
      "|          53|\n",
      "|         133|\n",
      "|        2035|\n",
      "|          78|\n",
      "|         375|\n",
      "+------------+\n",
      "only showing top 20 rows\n",
      "\n",
      "Estadísticas Books_rating.csv:\n",
      "+-------+--------------------+--------------------+------------------+--------------------+-----------+--------------------+-----------------+--------------------+--------------------+--------------------+\n",
      "|summary|                  Id|               Title|             Price|             User_id|profileName|  review/helpfulness|     review/score|         review/time|      review/summary|         review/text|\n",
      "+-------+--------------------+--------------------+------------------+--------------------+-----------+--------------------+-----------------+--------------------+--------------------+--------------------+\n",
      "|  count|              324662|              324661|             55122|              261742|     261753|              324642|           322768|              324657|              324654|              324656|\n",
      "|   mean|1.0812834256482797E9|   2097.992105263158|20.307189449751597|           13.473125|        NaN|        9.52871127E8|4.189715213404055|1.1241265305253887E9| 8.360987375630208E8| 9.915963998454012E8|\n",
      "| stddev|1.3218838878977923E9|  2219.7736797951047|30.713251676044692|  14.363172220996308|        NaN| 5.457570575540683E8|1.346712032237542| 1.653949874413654E8|5.3604373906001216E8|4.1829719531810296E8|\n",
      "|    min|          0001052888|\"\"\"As the Arabs S...|           A Brick| \"\"Mrs.Frisby and...|          \u001a| &#34;Copywriting...|              1.0|           & Dut...\"| \"\"The Child Manu...|\u0011The Tao of Muham...|\n",
      "|    max|          B000UZS5ZM|    wide is the gate|             99.99|       AZZZELE3I0CKD|      ~toki|                wife|            327.0|           cary lock|~~~~~~~~~~~~~~~~~...|~~~Author Connnel...|\n",
      "+-------+--------------------+--------------------+------------------+--------------------+-----------+--------------------+-----------------+--------------------+--------------------+--------------------+\n",
      "\n"
     ]
    }
   ],
   "source": [
    "print(\"Estadísticas books_data.csv:\")\n",
    "books_df.describe().show()\n",
    "\n",
    "print(\"Ratings únicos en books_data.csv:\")\n",
    "books_df.select(\"ratingsCount\").distinct().show()\n",
    "\n",
    "print(\"Estadísticas Books_rating.csv:\")\n",
    "ratings_df.describe().show()\n"
   ]
  },
  {
   "cell_type": "markdown",
   "id": "7fe901b2",
   "metadata": {
    "id": "7fe901b2",
    "jp-MarkdownHeadingCollapsed": true
   },
   "source": [
    "# **Proyecto | Base de Datos de Big Data**"
   ]
  },
  {
   "cell_type": "markdown",
   "id": "8665e3d2",
   "metadata": {
    "id": "8665e3d2"
   },
   "source": [
    "## **PARTICIONAMIENTO**"
   ]
  },
  {
   "cell_type": "code",
   "execution_count": 8,
   "id": "9d3461de",
   "metadata": {
    "id": "9d3461de"
   },
   "outputs": [],
   "source": [
    "from pyspark.sql.functions import col\n",
    "\n",
    "# Asegúrate de filtrar registros que no tengan nulos en estas dos columnas\n",
    "df_clean = books_df.join(ratings_df, on=\"Title\") \\\n",
    "    .filter((col(\"ratingsCount\").isNotNull()) & (col(\"review/score\").isNotNull()))\n"
   ]
  },
  {
   "cell_type": "code",
   "execution_count": 9,
   "id": "047f2e06",
   "metadata": {
    "colab": {
     "base_uri": "https://localhost:8080/"
    },
    "id": "047f2e06",
    "outputId": "a3cacd67-a9d1-4116-a956-8d04546031d9"
   },
   "outputs": [
    {
     "name": "stdout",
     "output_type": "stream",
     "text": [
      "157161\n"
     ]
    }
   ],
   "source": [
    "total = df_clean.count()\n",
    "print(total)\n"
   ]
  },
  {
   "cell_type": "code",
   "execution_count": 10,
   "id": "68c3f08a-c50c-4f37-bd87-b66394d60022",
   "metadata": {
    "colab": {
     "base_uri": "https://localhost:8080/"
    },
    "id": "68c3f08a-c50c-4f37-bd87-b66394d60022",
    "outputId": "c3ef2810-3da7-44a8-b379-36f6028aaace"
   },
   "outputs": [
    {
     "name": "stdout",
     "output_type": "stream",
     "text": [
      "+-------+------------------+-----------------+\n",
      "|summary|      ratingsCount|     review/score|\n",
      "+-------+------------------+-----------------+\n",
      "|  count|            157161|           157161|\n",
      "|   mean|226.33159626115895|4.154484891289824|\n",
      "| stddev| 701.4173054181018|1.242821744171521|\n",
      "|    min|                 1|              1.0|\n",
      "|    max|              3907|              5.0|\n",
      "+-------+------------------+-----------------+\n",
      "\n"
     ]
    }
   ],
   "source": [
    "df_clean.select(\"ratingsCount\",\"review/score\").describe().show()"
   ]
  },
  {
   "cell_type": "code",
   "execution_count": 11,
   "id": "76568c3f",
   "metadata": {
    "id": "76568c3f"
   },
   "outputs": [],
   "source": [
    "total = df_clean.count()\n",
    "\n",
    "# A: ratingsCount (popularidad)\n",
    "p_a = df_clean.filter(col(\"ratingsCount\") <= 1000).count() / total\n",
    "p_b = 1 - p_a\n",
    "\n",
    "# B: review/score (percepción)\n",
    "p_c = df_clean.filter(col(\"review/score\") < 4.0).count() / total\n",
    "p_d = 1 - p_c\n"
   ]
  },
  {
   "cell_type": "code",
   "execution_count": 12,
   "id": "b244db4a-c312-444c-8ddf-d622cb277880",
   "metadata": {
    "colab": {
     "base_uri": "https://localhost:8080/"
    },
    "id": "b244db4a-c312-444c-8ddf-d622cb277880",
    "outputId": "87afd557-974a-46c1-dcb6-0904f43459c9"
   },
   "outputs": [
    {
     "name": "stdout",
     "output_type": "stream",
     "text": [
      "A. a: 0.9315924434178963\n",
      "B. b: 0.06840755658210373\n",
      "C. c: 0.22082450480717225\n",
      "D. d: 0.7791754951928278\n"
     ]
    }
   ],
   "source": [
    "#Probabilidades de Ocurrencia\n",
    "print(\"A. a:\", p_a) # Probabilidad de a (ratingsCount <= 1000)\n",
    "print(\"B. b:\", p_b) # Probabilidad de b (ratingsCount > 1000)\n",
    "print(\"C. c:\", p_c) # Probabilidad de c (review/score < 4.0)\n",
    "print(\"D. d:\", p_d) # Probabilidad de d (review/score >= 4.0)"
   ]
  },
  {
   "cell_type": "code",
   "execution_count": 13,
   "id": "e7eddf06",
   "metadata": {
    "id": "e7eddf06"
   },
   "outputs": [],
   "source": [
    "# Probabilidades conjuntas\n",
    "p_ac = p_a * p_c  # Probabilidad de a ∧ c (ratingsCount <= 1000 y review/score < 4.0)\n",
    "p_ad = p_a * p_d  # Probabilidad de a ∧ d (ratingsCount <= 1000 y review/score >= 4.0)\n",
    "p_bc = p_b * p_c  # Probabilidad de b ∧ c (ratingsCount > 1000 y review/score < 4.0)\n",
    "p_bd = p_b * p_d  # Probabilidad de b ∧ d (ratingsCount > 1000 y review/score >= 4.0)\n"
   ]
  },
  {
   "cell_type": "code",
   "execution_count": 14,
   "id": "9f8e0c1f",
   "metadata": {
    "colab": {
     "base_uri": "https://localhost:8080/"
    },
    "id": "9f8e0c1f",
    "outputId": "f47bb36a-f356-402c-dbb5-e2b0d1b46a8e"
   },
   "outputs": [
    {
     "name": "stdout",
     "output_type": "stream",
     "text": [
      "A. a ∧ c: 0.2057184399998606\n",
      "B. a ∧ d: 0.7258740034180358\n",
      "C. b ∧ c: 0.015106064807311673\n",
      "D. b ∧ d: 0.05330149177479206\n"
     ]
    }
   ],
   "source": [
    "#Probabilidades de Ocurrencia\n",
    "print(\"A. a ∧ c:\", p_ac)\n",
    "print(\"B. a ∧ d:\", p_ad)\n",
    "print(\"C. b ∧ c:\", p_bc)\n",
    "print(\"D. b ∧ d:\", p_bd)\n"
   ]
  },
  {
   "cell_type": "markdown",
   "id": "aca74434",
   "metadata": {
    "id": "aca74434"
   },
   "source": [
    "## **Extracción de submuestras a partir de las reglas de particionamiento generadas**"
   ]
  },
  {
   "cell_type": "markdown",
   "id": "12af0515",
   "metadata": {
    "id": "12af0515"
   },
   "source": [
    "Combinación A → ratingsCount ≤ 1000 y score < 4.0"
   ]
  },
  {
   "cell_type": "code",
   "execution_count": 15,
   "id": "21b04aba",
   "metadata": {
    "colab": {
     "base_uri": "https://localhost:8080/"
    },
    "id": "21b04aba",
    "outputId": "a2068999-acff-4ad8-839a-6f41c6473f32"
   },
   "outputs": [
    {
     "name": "stdout",
     "output_type": "stream",
     "text": [
      "+--------------------+-----------+---------------+-----+--------------------+---------+-------------+--------------------+-------------------+------------+----------+-----+--------------+--------------------+------------------+------------+-----------+--------------------+--------------------+\n",
      "|               Title|description|        authors|image|         previewLink|publisher|publishedDate|            infoLink|         categories|ratingsCount|        Id|Price|       User_id|         profileName|review/helpfulness|review/score|review/time|      review/summary|         review/text|\n",
      "+--------------------+-----------+---------------+-----+--------------------+---------+-------------+--------------------+-------------------+------------+----------+-----+--------------+--------------------+------------------+------------+-----------+--------------------+--------------------+\n",
      "|\"A Child Called \"...|       NULL|['Dave Pelzer']| NULL|http://books.goog...|     NULL|   1995-01-01|http://books.goog...|['Abused children']|           4|0739400614| NULL|A18GIB3MNRT4A6|\"L. Lee Ledgerwoo...|               0/0|         1.0| 1255046400| Not what she wanted|Bought this for m...|\n",
      "|\"A Child Called \"...|       NULL|['Dave Pelzer']| NULL|http://books.goog...|     NULL|   1995-01-01|http://books.goog...|['Abused children']|           4|0739400614| NULL|A199XNVUB8B2HF|               Sarah|               0/0|         1.0| 1354320000|    sent wrong thing|I chose this rati...|\n",
      "|\"A Child Called \"...|       NULL|['Dave Pelzer']| NULL|http://books.goog...|     NULL|   1995-01-01|http://books.goog...|['Abused children']|           4|0739400614| NULL|A1FWB5K1MM0OWW|                Gina|               0/0|         3.0| 1348876800|      Not that great|I was not impress...|\n",
      "|\"A Child Called \"...|       NULL|['Dave Pelzer']| NULL|http://books.goog...|     NULL|   1995-01-01|http://books.goog...|['Abused children']|           4|0739400614| NULL|A3BNKBEKOSG8RW|            M. Adams|               0/0|         3.0| 1340582400|product is correc...|The book is corre...|\n",
      "|\"A Child Called \"...|       NULL|['Dave Pelzer']| NULL|http://books.goog...|     NULL|   1995-01-01|http://books.goog...|['Abused children']|           4|0739400614| NULL|A1U9C001H5MAFQ|       eleanor burke|               0/0|         1.0| 1357948800|A Child Called &#...|Ordered this for ...|\n",
      "+--------------------+-----------+---------------+-----+--------------------+---------+-------------+--------------------+-------------------+------------+----------+-----+--------------+--------------------+------------------+------------+-----------+--------------------+--------------------+\n",
      "only showing top 5 rows\n",
      "\n"
     ]
    }
   ],
   "source": [
    "df_A = df_clean.filter((col(\"ratingsCount\") <= 1000) & (col(\"review/score\") < 4.0))\n",
    "df_A.show(5)\n"
   ]
  },
  {
   "cell_type": "markdown",
   "id": "9cc86da3",
   "metadata": {
    "id": "9cc86da3"
   },
   "source": [
    "Combinación B → ratingsCount ≤ 1000 y score ≥ 4.0"
   ]
  },
  {
   "cell_type": "code",
   "execution_count": 16,
   "id": "e64ff657",
   "metadata": {
    "colab": {
     "base_uri": "https://localhost:8080/"
    },
    "id": "e64ff657",
    "outputId": "178ba50a-acbe-478d-8579-244df09762a1"
   },
   "outputs": [
    {
     "name": "stdout",
     "output_type": "stream",
     "text": [
      "+--------------------+-----------+---------------+-----+--------------------+---------+-------------+--------------------+-------------------+------------+----------+-----+--------------+--------------------+------------------+------------+-----------+--------------------+--------------------+\n",
      "|               Title|description|        authors|image|         previewLink|publisher|publishedDate|            infoLink|         categories|ratingsCount|        Id|Price|       User_id|         profileName|review/helpfulness|review/score|review/time|      review/summary|         review/text|\n",
      "+--------------------+-----------+---------------+-----+--------------------+---------+-------------+--------------------+-------------------+------------+----------+-----+--------------+--------------------+------------------+------------+-----------+--------------------+--------------------+\n",
      "|\"A Child Called \"...|       NULL|['Dave Pelzer']| NULL|http://books.goog...|     NULL|   1995-01-01|http://books.goog...|['Abused children']|           4|0739400614| NULL| A3D95GVVQ56JN|                Tina|               0/0|         5.0| 1289692800|A Child Called It...|Great book! Deals...|\n",
      "|\"A Child Called \"...|       NULL|['Dave Pelzer']| NULL|http://books.goog...|     NULL|   1995-01-01|http://books.goog...|['Abused children']|           4|0739400614| NULL|A1AB9PPK0FH3NA|             meowser|               0/0|         5.0| 1098835200|             amazing|I could not put t...|\n",
      "|\"A Child Called \"...|       NULL|['Dave Pelzer']| NULL|http://books.goog...|     NULL|   1995-01-01|http://books.goog...|['Abused children']|           4|0739400614| NULL|A3EZHFGOD40VPE|\"Joann Eschenfeld...|               0/1|         4.0| 1276128000|               JoAnn|I was very please...|\n",
      "|\"A Child Called \"...|       NULL|['Dave Pelzer']| NULL|http://books.goog...|     NULL|   1995-01-01|http://books.goog...|['Abused children']|           4|0739400614| NULL| AHDCQ6A6ZQCPN|               bells|               0/0|         5.0| 1355356800|A child called it...|my mom want this ...|\n",
      "|\"A Child Called \"...|       NULL|['Dave Pelzer']| NULL|http://books.goog...|     NULL|   1995-01-01|http://books.goog...|['Abused children']|           4|0739400614| NULL| ALMEHBLTRYRKJ|      Teresa Clayton|               0/0|         5.0| 1355270400|  Very interesting!!|I am a avid reade...|\n",
      "+--------------------+-----------+---------------+-----+--------------------+---------+-------------+--------------------+-------------------+------------+----------+-----+--------------+--------------------+------------------+------------+-----------+--------------------+--------------------+\n",
      "only showing top 5 rows\n",
      "\n"
     ]
    }
   ],
   "source": [
    "df_B = df_clean.filter((col(\"ratingsCount\") <= 1000) & (col(\"review/score\") >= 4.0))\n",
    "df_B.show(5)\n"
   ]
  },
  {
   "cell_type": "markdown",
   "id": "9ffe12ab",
   "metadata": {
    "id": "9ffe12ab"
   },
   "source": [
    " Combinación C → ratingsCount > 1000 y score < 4.0"
   ]
  },
  {
   "cell_type": "code",
   "execution_count": 17,
   "id": "4346bc4d",
   "metadata": {
    "colab": {
     "base_uri": "https://localhost:8080/"
    },
    "id": "4346bc4d",
    "outputId": "d0fccaea-bfc3-485a-bf83-84759feb639b"
   },
   "outputs": [
    {
     "name": "stdout",
     "output_type": "stream",
     "text": [
      "+--------------------+--------------------+--------------------+--------------------+--------------------+--------------------+-------------+--------------------+--------------------+------------+----------+------+--------------+--------------------+------------------+------------+-----------+--------------------+--------------------+\n",
      "|               Title|         description|             authors|               image|         previewLink|           publisher|publishedDate|            infoLink|          categories|ratingsCount|        Id| Price|       User_id|         profileName|review/helpfulness|review/score|review/time|      review/summary|         review/text|\n",
      "+--------------------+--------------------+--------------------+--------------------+--------------------+--------------------+-------------+--------------------+--------------------+------------+----------+------+--------------+--------------------+------------------+------------+-----------+--------------------+--------------------+\n",
      "|La Doctora: The J...|\"This doctor stil...| alligator bites ...| La Doctora offer...| self-discovery a...|    ['Linnea Smith']|         NULL|http://books.goog...|Pfeifer-Hamilton Pub|        1999|1570251401|  NULL|          NULL|                NULL|             13/18|         3.0|  958694400|The Great Doctora...|This is somewhat ...|\n",
      "|Neuropsychologica...|\"Neuropsychologic...| normally in seve...| into one reading...| who has combined...|['Gary Groth-Marn...|         NULL|http://books.goog...|John Wiley & Sons...|        2000|0471193259|103.78|A268QM4AOCO9NI|\"C. Weaver \"\"Psyc...|             14/14|         2.0| 1062115200|    Check elsewhere!|Some of the norms...|\n",
      "|4 Zinas: A Story ...|\"Zina Baker Hunti...| grew up to marry...|           education| and the dignity ...|['Martha Sonntag ...|         NULL|http://books.goog...|Smith Research As...|        2000|B000MUGWFK|  NULL|A2SWRQ6H39T0EE|           C. Pierce|              0/10|         1.0| 1168905600|Do not read this ...|It has been a whi...|\n",
      "|Critical Essays o...|\"A collection of ...|                Inc.|            Portland|                 OR\"|['Robert F. Gleck...|         NULL|http://books.goog...|Macmillan Referen...|        1991|0816188599|  NULL|A2WP1IY2XSQCIA|Anonymous (bob@ao...|              0/11|         1.0|  923356800|            it stunk|it was the worst ...|\n",
      "|Tim Burton (Virgi...|\"This indispensab...| as well as side ...| fresh and contem...| this is the esse...|['Jim Smith', 'Ji...|         NULL|http://books.goog...|Virgin Books Limited|        2002|B000HWYS54|  NULL| AYFH5EYRZHK8W|               julie|               0/0|         3.0| 1329523200|whats the real pu...|looking at the re...|\n",
      "+--------------------+--------------------+--------------------+--------------------+--------------------+--------------------+-------------+--------------------+--------------------+------------+----------+------+--------------+--------------------+------------------+------------+-----------+--------------------+--------------------+\n",
      "only showing top 5 rows\n",
      "\n"
     ]
    }
   ],
   "source": [
    "df_C = df_clean.filter((col(\"ratingsCount\") > 1000) & (col(\"review/score\") < 4.0))\n",
    "df_C.show(5)\n"
   ]
  },
  {
   "cell_type": "markdown",
   "id": "fbb40db0",
   "metadata": {
    "id": "fbb40db0"
   },
   "source": [
    "Combinación D → ratingsCount > 1000 y score ≥ 4.0"
   ]
  },
  {
   "cell_type": "code",
   "execution_count": 18,
   "id": "0ee55299",
   "metadata": {
    "colab": {
     "base_uri": "https://localhost:8080/"
    },
    "id": "0ee55299",
    "outputId": "1b9e254d-fd31-4ebf-f4ea-f500b2ffcda8"
   },
   "outputs": [
    {
     "name": "stdout",
     "output_type": "stream",
     "text": [
      "+--------------------+--------------------+--------------------+-----------+-----------------+--------------------+-------------+--------------------+----------+------------+----------+-----+--------------+--------------------+------------------+------------+-----------+--------------------+--------------------+\n",
      "|               Title|         description|             authors|      image|      previewLink|           publisher|publishedDate|            infoLink|categories|ratingsCount|        Id|Price|       User_id|         profileName|review/helpfulness|review/score|review/time|      review/summary|         review/text|\n",
      "+--------------------+--------------------+--------------------+-----------+-----------------+--------------------+-------------+--------------------+----------+------------+----------+-----+--------------+--------------------+------------------+------------+-----------+--------------------+--------------------+\n",
      "|Raymond Chandler:...|\"Later Novels and...|\"\" in which Chand...| publishing| and filmmaking.\"|['Raymond Chandler']|         NULL|http://books.goog...|      NULL|        1995|1883011086|23.36|A20ZXT5ZXSKOLU|               Lenny|               0/0|         5.0| 1356652800|Raymond Chandler ...|...and that's may...|\n",
      "|Raymond Chandler:...|\"Later Novels and...|\"\" in which Chand...| publishing| and filmmaking.\"|['Raymond Chandler']|         NULL|http://books.goog...|      NULL|        1995|1883011086|23.36|A2F3M93RRLFQNJ|           mrliteral|               0/0|         5.0| 1346889600|The Simple Art of...|\"For that elusive...|\n",
      "|Raymond Chandler:...|\"Later Novels and...|\"\" in which Chand...| publishing| and filmmaking.\"|['Raymond Chandler']|         NULL|http://books.goog...|      NULL|        1995|1883011086|23.36|A3MV1KKHX51FYT|      Acute Observer|               0/0|         5.0| 1315353600|Novels, Essays, L...|\"Chandler, Later ...|\n",
      "|Raymond Chandler:...|\"Later Novels and...|\"\" in which Chand...| publishing| and filmmaking.\"|['Raymond Chandler']|         NULL|http://books.goog...|      NULL|        1995|1883011086|23.36|A37W9VKW96KKPQ|\"Gonzales Vader \"...|               0/0|         5.0| 1239408000|Couldn't be much ...|An excellent and ...|\n",
      "|Raymond Chandler:...|\"Later Novels and...|\"\" in which Chand...| publishing| and filmmaking.\"|['Raymond Chandler']|         NULL|http://books.goog...|      NULL|        1995|1883011086|23.36| APCE5RPRQBMNB|         Strelnakoff|               0/0|         5.0| 1233619200|A must read for a...|\"The two volumns ...|\n",
      "+--------------------+--------------------+--------------------+-----------+-----------------+--------------------+-------------+--------------------+----------+------------+----------+-----+--------------+--------------------+------------------+------------+-----------+--------------------+--------------------+\n",
      "only showing top 5 rows\n",
      "\n"
     ]
    }
   ],
   "source": [
    "df_D = df_clean.filter((col(\"ratingsCount\") > 1000) & (col(\"review/score\") >= 4.0))\n",
    "df_D.show(5)\n"
   ]
  },
  {
   "cell_type": "code",
   "execution_count": 18,
   "id": "6f179fa4-31a3-484b-a07e-233e23317487",
   "metadata": {
    "id": "6f179fa4-31a3-484b-a07e-233e23317487"
   },
   "outputs": [],
   "source": []
  },
  {
   "cell_type": "markdown",
   "id": "f7kbnstqIxJ1",
   "metadata": {
    "id": "f7kbnstqIxJ1"
   },
   "source": [
    "# Actividad 3 - modelos supervizados y no supervizados"
   ]
  },
  {
   "cell_type": "markdown",
   "id": "ug3p2LhxI88e",
   "metadata": {
    "id": "ug3p2LhxI88e"
   },
   "source": [
    "Parte 2 – Construcción de Modelos de Aprendizaje Supervisado y No Supervisado\n",
    "\t1.\tIntroducción teórica\n",
    "Se empleará un modelo de aprendizaje supervisado (DecisionTreeClassifier) para predecir la percepción de calidad (review/score), y un modelo de aprendizaje no supervisado (KMeans) para agrupar libros según popularidad (ratingsCount) y antigüedad (publishedDate). DecisionTree es útil por su interpretabilidad y manejo de variables categóricas; KMeans permite identificar grupos homogéneos sin variable objetivo.\n",
    "\t2.\tSelección de los datos\n",
    "Se reutiliza la muestra M construida mediante técnicas de muestreo aplicadas a cada una de las cuatro particiones definidas en la etapa anterior (A, B, C, D). Esta muestra combina registros representativos de todos los perfiles identificados.\n",
    "\t3.\tPreparación de los datos\n",
    "•\tSe eliminan valores nulos remanentes.\n",
    "•\tcategories se transforma con StringIndexer y OneHotEncoder.\n",
    "•\tpublishedDate se transforma a año numérico.\n",
    "•\tSe ensamblan las variables con VectorAssembler.\n",
    "•\tPara supervisado, review/score se binariza como label (1 si ≥4.0, 0 si <4.0).\n",
    "•\tSe normalizan los datos para KMeans si es necesario.\n",
    "\n",
    "4.\tPreparación del conjunto de entrenamiento y prueba\n",
    "\n",
    "•\tLa muestra M se divide en 80% entrenamiento y 20% prueba usando randomSplit.\n",
    "•\tSe justifica esta proporción para balancear robustez del entrenamiento y validación representativa.\n",
    "\n",
    "5.\tConstrucción de modelos de aprendizaje supervisado y no supervisado\n",
    "\n",
    "•\tSupervisado: Se entrena un DecisionTreeClassifier con las variables procesadas. Se evalúa con accuracy y F1-score sobre el conjunto de prueba.\n",
    "•\tNo supervisado: Se entrena un KMeans con K=3 sobre las variables seleccionadas. Se evalúa usando ClusteringEvaluator y se analizan los centros para interpretar los grupos formados.\n",
    "•\tSe compara el rendimiento de ambos modelos y su utilidad en función del objetivo analítico.\n",
    "\n"
   ]
  },
  {
   "cell_type": "markdown",
   "id": "nB0X9vW6JK96",
   "metadata": {
    "id": "nB0X9vW6JK96"
   },
   "source": [
    "1. Introducción teórica\n",
    "\n",
    "En esta etapa se emplearán dos enfoques de aprendizaje automático. El primero es el aprendizaje supervisado, que consiste en entrenar un modelo con datos etiquetados para predecir una variable objetivo. Se usará el algoritmo DecisionTreeClassifier de PySpark, conocido por su capacidad de manejar tanto variables categóricas como numéricas y ofrecer interpretaciones claras mediante reglas de decisión. El segundo enfoque es el aprendizaje no supervisado, donde no existe una variable objetivo y el objetivo es descubrir patrones o estructuras ocultas en los datos. Para ello, se utilizará KMeans, un algoritmo de agrupamiento que permite identificar clústeres de libros similares según sus características, como popularidad y antigüedad. Ambos modelos se aplicarán sobre la misma muestra M, siguiendo las etapas de preparación, entrenamiento y evaluación."
   ]
  },
  {
   "cell_type": "markdown",
   "id": "2lQXmS-EJL0j",
   "metadata": {
    "id": "2lQXmS-EJL0j"
   },
   "source": [
    "2. Selección de los datos\n",
    "\n",
    "Para esta etapa se utilizará la muestra M generada previamente a partir del particionamiento de la base de datos original. Esta muestra fue construida aplicando técnicas de muestreo específicas para cada combinación de popularidad (ratingsCount) y evaluación (review/score), garantizando representatividad y diversidad temática. La muestra M resultante combina registros de las cuatro particiones definidas (A, B, C, D), y constituye el conjunto base sobre el cual se entrenarán y evaluarán ambos modelos. Esta selección permite asegurar que los datos utilizados reflejan adecuadamente los distintos perfiles presentes en la población objetivo."
   ]
  },
  {
   "cell_type": "code",
   "execution_count": 3,
   "id": "k3_ddVm4JQdJ",
   "metadata": {
    "id": "k3_ddVm4JQdJ"
   },
   "outputs": [
    {
     "name": "stderr",
     "output_type": "stream",
     "text": [
      "                                                                                "
     ]
    }
   ],
   "source": [
    "\n",
    "# IMPORTACIONES\n",
    "from pyspark.sql import SparkSession\n",
    "from pyspark.sql.functions import col, year, when, udf\n",
    "from pyspark.sql.types import StringType\n",
    "from pyspark.ml import Pipeline\n",
    "from pyspark.ml.feature import StringIndexer, OneHotEncoder, VectorAssembler, MinMaxScaler\n",
    "from pyspark.ml.classification import DecisionTreeClassifier\n",
    "from pyspark.ml.evaluation import MulticlassClassificationEvaluator\n",
    "from pyspark.ml.clustering import KMeans\n",
    "from pyspark.ml.evaluation import ClusteringEvaluator\n",
    "\n",
    "# SESIÓN SPARK\n",
    "spark = SparkSession.builder.appName(\"MLlibEquipo52\").getOrCreate()\n",
    "\n",
    "# CARGA Y UNIÓN DE DATOS\n",
    "books = spark.read.csv(\"books_data.csv\", header=True, inferSchema=True)\n",
    "ratings = spark.read.csv(\"Books_rating.csv\", header=True, inferSchema=True)\n",
    "\n",
    "books = books.withColumnRenamed(\"title\", \"Title\")\n",
    "df = ratings.join(books.select(\"Title\", \"categories\", \"publishedDate\", \"ratingsCount\"), on=\"Title\", how=\"inner\")\n",
    "\n",
    "# FILTRADO DE NULOS PARA VARIABLES CLAVE\n",
    "df_clean = df.filter(col(\"ratingsCount\").isNotNull() & col(\"review/score\").isNotNull())\n",
    "\n",
    "# PARTICIONAMIENTO SEGÚN CRITERIOS\n",
    "df_clean = df_clean.withColumn(\"ratings_partition\", when(col(\"ratingsCount\") <= 1000, \"baja\").otherwise(\"alta\"))\n",
    "df_clean = df_clean.withColumn(\"score_partition\", when(col(\"review/score\") < 4.0, \"baja\").otherwise(\"alta\"))\n",
    "\n",
    "part_A = df_clean.filter((col(\"ratings_partition\") == \"baja\") & (col(\"score_partition\") == \"baja\"))\n",
    "part_B = df_clean.filter((col(\"ratings_partition\") == \"baja\") & (col(\"score_partition\") == \"alta\"))\n",
    "part_C = df_clean.filter((col(\"ratings_partition\") == \"alta\") & (col(\"score_partition\") == \"baja\"))\n",
    "part_D = df_clean.filter((col(\"ratings_partition\") == \"alta\") & (col(\"score_partition\") == \"alta\"))\n"
   ]
  },
  {
   "cell_type": "markdown",
   "id": "ulh_ba5QJhfS",
   "metadata": {
    "id": "ulh_ba5QJhfS"
   },
   "source": [
    "3. Preparación de los datos\n",
    "Se transforma la variable categories con codificación categórica, se extrae el año de publishedDate, y se binariza review/score como variable objetivo para el modelo supervisado. Luego se ensamblan las variables predictoras en un solo vector y se normalizan para el modelo no supervisado. Este procesamiento es necesario para adaptar los datos a los requerimientos de los algoritmos de aprendizaje automático de PySpark."
   ]
  },
  {
   "cell_type": "code",
   "execution_count": 18,
   "id": "aBM2LXOfJiSD",
   "metadata": {
    "id": "aBM2LXOfJiSD"
   },
   "outputs": [],
   "source": [
    "# MUESTREO POR PARTICIÓN\n",
    "sample_A = part_A.sample(False, 0.3, seed=42)\n",
    "sample_B = part_B.sample(False, 0.05, seed=42)\n",
    "sample_C = part_C.rdd.zipWithIndex().filter(lambda x: x[1] % 5 == 0).map(lambda x: x[0]).toDF()\n",
    "sample_D = part_D\n",
    "\n",
    "muestra_M = sample_A.union(sample_B).union(sample_C).union(sample_D)"
   ]
  },
  {
   "cell_type": "code",
   "execution_count": 27,
   "id": "ubGK6HnzyxQJ",
   "metadata": {
    "id": "ubGK6HnzyxQJ"
   },
   "outputs": [],
   "source": [
    "# TRANSFORMACIONES PREVIAS\n",
    "muestra_M = muestra_M.withColumn(\"year\", year(col(\"publishedDate\")))\n",
    "\n",
    "# LIMPIEZA Y CONVERSIÓN DE CATEGORIES A STRINGS SIMPLES\n",
    "to_string_udf = udf(lambda x: str(x).strip(\"[]'\").split(\",\")[0] if x else None, StringType())\n",
    "muestra_M = muestra_M.withColumn(\"categories\", to_string_udf(\"categories\"))\n",
    "muestra_M = muestra_M.filter(col(\"categories\").isNotNull())\n",
    "\n",
    "# CONVERSIÓN DE ratingsCount A TIPO NUMÉRICO\n",
    "muestra_M = muestra_M.withColumn(\"ratingsCount\", col(\"ratingsCount\").cast(\"double\"))\n",
    "\n",
    "# BINARIZACIÓN DE LABEL\n",
    "muestra_M = muestra_M.withColumn(\"label\", when(col(\"review/score\") >= 4.0, 1).otherwise(0))\n"
   ]
  },
  {
   "cell_type": "code",
   "execution_count": 28,
   "id": "WEqnBf5ovLP5",
   "metadata": {
    "id": "WEqnBf5ovLP5"
   },
   "outputs": [],
   "source": [
    "# ELIMINAR NULOS EN COLUMNAS EXISTENTES\n",
    "muestra_M = muestra_M.dropna(subset=[\"ratingsCount\", \"year\", \"categories\"])\n",
    "\n",
    "# PIPELINE DE TRANSFORMACIÓN\n",
    "indexer = StringIndexer(inputCol=\"categories\", outputCol=\"categories_index\", handleInvalid=\"keep\")\n",
    "encoder = OneHotEncoder(inputCol=\"categories_index\", outputCol=\"categories_encoded\", handleInvalid=\"keep\")\n",
    "assembler = VectorAssembler(inputCols=[\"ratingsCount\", \"year\", \"categories_encoded\"], outputCol=\"features_raw\")\n",
    "scaler = MinMaxScaler(inputCol=\"features_raw\", outputCol=\"features\")\n",
    "\n",
    "pipeline = Pipeline(stages=[indexer, encoder, assembler, scaler])\n",
    "model_prep = pipeline.fit(muestra_M)\n",
    "muestra_final = model_prep.transform(muestra_M)"
   ]
  },
  {
   "cell_type": "markdown",
   "id": "otJ9dQ8eJmNX",
   "metadata": {
    "id": "otJ9dQ8eJmNX"
   },
   "source": [
    "4. Preparación del conjunto de entrenamiento y prueba\n",
    "La muestra M ya transformada (muestra_final) se divide en dos subconjuntos: 80% para entrenamiento y 20% para prueba. Esta división permite entrenar los modelos en datos representativos y evaluarlos con información nueva, asegurando una medición objetiva del desempeño.\n"
   ]
  },
  {
   "cell_type": "code",
   "execution_count": 29,
   "id": "Jce7ajE6Jl3T",
   "metadata": {
    "id": "Jce7ajE6Jl3T"
   },
   "outputs": [],
   "source": [
    "# DIVISIÓN TRAIN/TEST\n",
    "train_data, test_data = muestra_final.randomSplit([0.8, 0.2], seed=42)\n",
    "\n",
    "# CONVERSIÓN DE LABEL A DOUBLE\n",
    "train_data = train_data.withColumn(\"label\", col(\"label\").cast(\"double\"))\n",
    "test_data = test_data.withColumn(\"label\", col(\"label\").cast(\"double\"))\n",
    "\n"
   ]
  },
  {
   "cell_type": "markdown",
   "id": "Ux-1xdsYJquB",
   "metadata": {
    "id": "Ux-1xdsYJquB"
   },
   "source": [
    "5. Construcción de modelos – Parte 1: Modelo Supervisado (DecisionTreeClassifier)\n",
    "\n",
    "Se entrena un clasificador de árbol de decisión para predecir la variable binaria label (percepción de calidad). Se ajusta el modelo con los datos de entrenamiento y se evalúa su rendimiento en el conjunto de prueba mediante métricas de precisión y F1-score.\n",
    "\n"
   ]
  },
  {
   "cell_type": "code",
   "execution_count": 30,
   "id": "ip4EIjq0JrDG",
   "metadata": {
    "colab": {
     "base_uri": "https://localhost:8080/"
    },
    "id": "ip4EIjq0JrDG",
    "outputId": "078b0aac-89e2-455c-c8ca-36e2cf31e785"
   },
   "outputs": [
    {
     "name": "stdout",
     "output_type": "stream",
     "text": [
      "Accuracy: 0.7718696018071489\n",
      "F1-score: 0.7767987467796413\n"
     ]
    }
   ],
   "source": [
    "# MODELO SUPERVISADO\n",
    "dt = DecisionTreeClassifier(labelCol=\"label\", featuresCol=\"features\")\n",
    "dt_model = dt.fit(train_data)\n",
    "predictions = dt_model.transform(test_data)\n",
    "\n",
    "evaluator_acc = MulticlassClassificationEvaluator(labelCol=\"label\", predictionCol=\"prediction\", metricName=\"accuracy\")\n",
    "evaluator_f1 = MulticlassClassificationEvaluator(labelCol=\"label\", predictionCol=\"prediction\", metricName=\"f1\")\n",
    "\n",
    "print(\"Accuracy:\", evaluator_acc.evaluate(predictions))\n",
    "print(\"F1-score:\", evaluator_f1.evaluate(predictions))\n",
    "\n"
   ]
  },
  {
   "cell_type": "markdown",
   "id": "5D8oxSWqJw0Z",
   "metadata": {
    "id": "5D8oxSWqJw0Z"
   },
   "source": [
    "5. Construcción de modelos – Parte 2: Modelo No Supervisado (KMeans)\n",
    "\n",
    "Se aplica KMeans para agrupar libros según características cuantitativas como popularidad y antigüedad. Se fija un valor de K=3 para obtener tres clústeres representativos. Luego se evalúa la cohesión de los grupos usando el coeficiente de silueta.\n"
   ]
  },
  {
   "cell_type": "code",
   "execution_count": null,
   "id": "C9JAznpEJwhW",
   "metadata": {
    "id": "C9JAznpEJwhW"
   },
   "outputs": [],
   "source": [
    "# MODELO NO SUPERVISADO\n",
    "kmeans = KMeans(featuresCol=\"features\", k=10, seed=42)\n",
    "kmeans_model = kmeans.fit(muestra_final)\n",
    "clusters = kmeans_model.transform(muestra_final)\n",
    "\n",
    "evaluator_cluster = ClusteringEvaluator(featuresCol=\"features\", metricName=\"silhouette\", distanceMeasure=\"squaredEuclidean\")\n",
    "print(\"Silhouette score:\", evaluator_cluster.evaluate(clusters))\n",
    "clusters.groupBy(\"prediction\").count().show()"
   ]
  }
 ],
 "metadata": {
  "colab": {
   "collapsed_sections": [
    "NkMzYttSrBBJ",
    "7fe901b2"
   ],
   "provenance": []
  },
  "kernelspec": {
   "display_name": "Python 3 (ipykernel)",
   "language": "python",
   "name": "python3"
  },
  "language_info": {
   "codemirror_mode": {
    "name": "ipython",
    "version": 3
   },
   "file_extension": ".py",
   "mimetype": "text/x-python",
   "name": "python",
   "nbconvert_exporter": "python",
   "pygments_lexer": "ipython3",
   "version": "3.11.12"
  }
 },
 "nbformat": 4,
 "nbformat_minor": 5
}
