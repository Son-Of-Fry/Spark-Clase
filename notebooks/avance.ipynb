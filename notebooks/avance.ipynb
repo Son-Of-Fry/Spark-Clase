{
 "cells": [
  {
   "cell_type": "markdown",
   "id": "lPDxR_oRqDor",
   "metadata": {
    "id": "lPDxR_oRqDor"
   },
   "source": [
    "#**Amazon Book Reviews**\n",
    "\n",
    "El dataset a utilizar durante el proyecto es ‘Amazon Book Reviews’ proveniente de la\n",
    "plataforma Kaggle, se encuentra disponible en el siguiente enlace:\n",
    "https://www.kaggle.com/datasets/mohamedbakhet/amazon-books-reviews/data.\n",
    "\n",
    "Este conjunto de datos fue construido a partir de dos fuentes principales: la primera\n",
    "fuente es el repositorio de datos de Amazon de la Universidad de California en San\n",
    "Diego (UCSD),  La segunda fuente corresponde a datos obtenidos a través de la\n",
    "API de Google Books.\n",
    "\n",
    "En cuanto al tamaño global, el dataset se compone de dos archivos principales:\n",
    "books_data.csv, con un tamaño aproximado de 181.3 MB, y books_rating.csv, con un\n",
    "tamaño aproximado de 2.86 GB\n",
    "\n",
    "Los datasets books_data y books_rating ofrecen información complementaria sobre\n",
    "libros disponibles en Amazon y las reseñas realizadas por los usuarios. A continuación\n",
    "se presenta una descripción general de cada uno de los datasets:\n",
    "\n",
    "**books_data.csv (Metadatos de los libros):**\n",
    "Este dataset contiene metadatos como título, autor, categoría, número de valoraciones,\n",
    "descripción, fecha de publicación. En cuanto a su estructura cuenta con 212,404\n",
    "registros y 10 columnas.\n",
    "\n",
    "**books_rating.csv (Reseñas de Usuarios):** Este dataset tiene un enfoque en las opiniones de los usuarios que incluyen:\n",
    "puntuaciones, reseñas, ID de usuario y nombre de perfil. En cuanto a su estructura\n",
    "cuenta con 3,000,000 de registros distribuidos en 10 columnas\n"
   ]
  },
  {
   "cell_type": "markdown",
   "id": "NkMzYttSrBBJ",
   "metadata": {
    "id": "NkMzYttSrBBJ"
   },
   "source": [
    "# **Proyecto | lectura, escritura, archivos de Big Data PySpark**"
   ]
  },
  {
   "cell_type": "markdown",
   "id": "tB7I-i_83QLW",
   "metadata": {
    "id": "tB7I-i_83QLW"
   },
   "source": [
    "## **CARGA DE ARCHIVOS**"
   ]
  },
  {
   "cell_type": "code",
   "execution_count": null,
   "id": "6698d2b8",
   "metadata": {
    "id": "6698d2b8",
    "outputId": "47dac685-bd3f-4718-bdf0-b7abcf89b12d"
   },
   "outputs": [
    {
     "name": "stderr",
     "output_type": "stream",
     "text": [
      "                                                                                "
     ]
    }
   ],
   "source": [
    "from pyspark.sql import SparkSession\n",
    "from pyspark.sql.functions import col, count, when, to_date\n",
    "from pyspark.sql.types import DoubleType\n",
    "\n",
    "spark = SparkSession.builder.appName(\"AmazonBooksEDA\").getOrCreate()\n",
    "\n",
    "# Carga de archivos\n",
    "books_df = spark.read.option(\"header\", True).option(\"inferSchema\", True).csv(\"data/raw/books_data.csv\")\n",
    "ratings_df = spark.read.option(\"header\", True).option(\"inferSchema\", True).csv(\"data/raw/Books_rating.csv\")\n",
    "\n"
   ]
  },
  {
   "cell_type": "code",
   "execution_count": null,
   "id": "50b06258",
   "metadata": {
    "id": "50b06258",
    "outputId": "fe053fde-4f82-42c8-ce91-35b7c12260a4"
   },
   "outputs": [
    {
     "name": "stdout",
     "output_type": "stream",
     "text": [
      "books_data.csv:\n",
      "+--------------------+--------------------+--------------------+--------------------+--------------------+--------------------+--------------+--------------------+--------------------+------------+\n",
      "|               Title|         description|             authors|               image|         previewLink|           publisher| publishedDate|            infoLink|          categories|ratingsCount|\n",
      "+--------------------+--------------------+--------------------+--------------------+--------------------+--------------------+--------------+--------------------+--------------------+------------+\n",
      "|Its Only Art If I...|                NULL|    ['Julie Strain']|http://books.goog...|http://books.goog...|                NULL|          1996|http://books.goog...|['Comics & Graphi...|        NULL|\n",
      "|Dr. Seuss: Americ...|\"Philip Nel takes...| like that of Lew...| has changed lang...| giving us new wo...| inspiring artist...|['Philip Nel']|http://books.goog...|http://books.goog...|   A&C Black|\n",
      "|Wonderful Worship...|This resource inc...|    ['David R. Ray']|http://books.goog...|http://books.goog...|                NULL|          2000|http://books.goog...|        ['Religion']|        NULL|\n",
      "|Whispers of the W...|Julia Thomas find...| ['Veronica Haddon']|http://books.goog...|http://books.goog...|           iUniverse|       2005-02|http://books.goog...|         ['Fiction']|        NULL|\n",
      "|Nation Dance: Rel...|                NULL|     ['Edward Long']|                NULL|http://books.goog...|                NULL|    2003-03-01|http://books.goog...|                NULL|        NULL|\n",
      "+--------------------+--------------------+--------------------+--------------------+--------------------+--------------------+--------------+--------------------+--------------------+------------+\n",
      "only showing top 5 rows\n",
      "\n",
      "root\n",
      " |-- Title: string (nullable = true)\n",
      " |-- description: string (nullable = true)\n",
      " |-- authors: string (nullable = true)\n",
      " |-- image: string (nullable = true)\n",
      " |-- previewLink: string (nullable = true)\n",
      " |-- publisher: string (nullable = true)\n",
      " |-- publishedDate: string (nullable = true)\n",
      " |-- infoLink: string (nullable = true)\n",
      " |-- categories: string (nullable = true)\n",
      " |-- ratingsCount: string (nullable = true)\n",
      "\n",
      "\n",
      "Books_rating.csv:\n",
      "+----------+--------------------+-----+--------------+--------------------+------------------+------------+-----------+--------------------+--------------------+\n",
      "|        Id|               Title|Price|       User_id|         profileName|review/helpfulness|review/score|review/time|      review/summary|         review/text|\n",
      "+----------+--------------------+-----+--------------+--------------------+------------------+------------+-----------+--------------------+--------------------+\n",
      "|1882931173|Its Only Art If I...| NULL| AVCGYZL8FQQTD|\"Jim of Oz \"\"jim-...|               7/7|         4.0|  940636800|Nice collection o...|This is only for ...|\n",
      "|0826414346|Dr. Seuss: Americ...| NULL|A30TK6U7DNS82R|       Kevin Killian|             10/10|         5.0| 1095724800|   Really Enjoyed It|I don't care much...|\n",
      "|0826414346|Dr. Seuss: Americ...| NULL|A3UH4UZ4RSVO82|        John Granger|             10/11|         5.0| 1078790400|Essential for eve...|\"If people become...|\n",
      "|0826414346|Dr. Seuss: Americ...| NULL|A2MVUWT453QH61|\"Roy E. Perry \"\"a...|               7/7|         4.0| 1090713600|Phlip Nel gives s...|Theodore Seuss Ge...|\n",
      "|0826414346|Dr. Seuss: Americ...| NULL|A22X4XUPKF66MR|\"D. H. Richards \"...|               3/3|         4.0| 1107993600|Good academic ove...|\"Philip Nel - Dr....|\n",
      "+----------+--------------------+-----+--------------+--------------------+------------------+------------+-----------+--------------------+--------------------+\n",
      "only showing top 5 rows\n",
      "\n",
      "root\n",
      " |-- Id: string (nullable = true)\n",
      " |-- Title: string (nullable = true)\n",
      " |-- Price: string (nullable = true)\n",
      " |-- User_id: string (nullable = true)\n",
      " |-- profileName: string (nullable = true)\n",
      " |-- review/helpfulness: string (nullable = true)\n",
      " |-- review/score: string (nullable = true)\n",
      " |-- review/time: string (nullable = true)\n",
      " |-- review/summary: string (nullable = true)\n",
      " |-- review/text: string (nullable = true)\n",
      "\n"
     ]
    }
   ],
   "source": [
    "print(\"books_data.csv:\")\n",
    "books_df.show(5)\n",
    "books_df.printSchema()\n",
    "\n",
    "print(\"\\nBooks_rating.csv:\")\n",
    "ratings_df.show(5)\n",
    "ratings_df.printSchema()\n"
   ]
  },
  {
   "cell_type": "code",
   "execution_count": null,
   "id": "a71a0521-85f5-437a-843e-a69699ce9a6c",
   "metadata": {
    "id": "a71a0521-85f5-437a-843e-a69699ce9a6c",
    "outputId": "9b19328e-e0f6-496d-9cd5-ad51c1cc29d5"
   },
   "outputs": [
    {
     "name": "stdout",
     "output_type": "stream",
     "text": [
      "books_data.csv:\n",
      "root\n",
      " |-- Title: string (nullable = true)\n",
      " |-- description: string (nullable = true)\n",
      " |-- authors: string (nullable = true)\n",
      " |-- image: string (nullable = true)\n",
      " |-- previewLink: string (nullable = true)\n",
      " |-- publisher: string (nullable = true)\n",
      " |-- publishedDate: date (nullable = true)\n",
      " |-- infoLink: string (nullable = true)\n",
      " |-- categories: string (nullable = true)\n",
      " |-- ratingsCount: integer (nullable = true)\n",
      "\n",
      "\n",
      "Books_rating.csv:\n",
      "root\n",
      " |-- Id: string (nullable = true)\n",
      " |-- Title: string (nullable = true)\n",
      " |-- Price: string (nullable = true)\n",
      " |-- User_id: string (nullable = true)\n",
      " |-- profileName: string (nullable = true)\n",
      " |-- review/helpfulness: string (nullable = true)\n",
      " |-- review/score: double (nullable = true)\n",
      " |-- review/time: string (nullable = true)\n",
      " |-- review/summary: string (nullable = true)\n",
      " |-- review/text: string (nullable = true)\n",
      "\n"
     ]
    }
   ],
   "source": [
    "books_df = books_df.withColumn(\"publishedDate\", to_date(col(\"publishedDate\"))) \\\n",
    "                   .withColumn(\"ratingsCount\", col(\"ratingsCount\").cast(\"integer\"))\n",
    "\n",
    "ratings_df = ratings_df.withColumn(\"review/score\", col(\"review/score\").cast(DoubleType()))\n",
    "\n",
    "print(\"books_data.csv:\")\n",
    "books_df.printSchema()\n",
    "\n",
    "print(\"\\nBooks_rating.csv:\")\n",
    "ratings_df.printSchema()"
   ]
  },
  {
   "cell_type": "code",
   "execution_count": null,
   "id": "85670131",
   "metadata": {
    "id": "85670131",
    "outputId": "f6e6e2aa-342d-47fb-c6d8-cb619c3fd465"
   },
   "outputs": [
    {
     "name": "stdout",
     "output_type": "stream",
     "text": [
      "books_data.csv - filas: 212404 columnas: 10\n"
     ]
    },
    {
     "name": "stderr",
     "output_type": "stream",
     "text": [
      "[Stage 54:===========================================>            (17 + 5) / 22]"
     ]
    },
    {
     "name": "stdout",
     "output_type": "stream",
     "text": [
      "Books_rating.csv - filas: 3000000 columnas: 10\n"
     ]
    },
    {
     "name": "stderr",
     "output_type": "stream",
     "text": [
      "                                                                                "
     ]
    }
   ],
   "source": [
    "print(\"books_data.csv - filas:\", books_df.count(), \"columnas:\", len(books_df.columns))\n",
    "print(\"Books_rating.csv - filas:\", ratings_df.count(), \"columnas:\", len(ratings_df.columns))\n"
   ]
  },
  {
   "cell_type": "code",
   "execution_count": null,
   "id": "d283b8aa",
   "metadata": {
    "id": "d283b8aa",
    "outputId": "333f4031-f025-40e1-8df4-a32658a6faef"
   },
   "outputs": [
    {
     "name": "stdout",
     "output_type": "stream",
     "text": [
      "Valores nulos en books_data.csv:\n",
      "+-----+-----------+-------+-----+-----------+---------+-------------+--------+----------+------------+\n",
      "|Title|description|authors|image|previewLink|publisher|publishedDate|infoLink|categories|ratingsCount|\n",
      "+-----+-----------+-------+-----+-----------+---------+-------------+--------+----------+------------+\n",
      "|    1|      68357|  31251|51191|      24055|    73130|        46999|   24301|     40524|      168972|\n",
      "+-----+-----------+-------+-----+-----------+---------+-------------+--------+----------+------------+\n",
      "\n",
      "Valores nulos en Books_rating.csv:\n"
     ]
    },
    {
     "name": "stderr",
     "output_type": "stream",
     "text": [
      "[Stage 60:=============================================>          (18 + 4) / 22]"
     ]
    },
    {
     "name": "stdout",
     "output_type": "stream",
     "text": [
      "+---+-----+-------+-------+-----------+------------------+------------+-----------+--------------+-----------+\n",
      "| Id|Title|  Price|User_id|profileName|review/helpfulness|review/score|review/time|review/summary|review/text|\n",
      "+---+-----+-------+-------+-----------+------------------+------------+-----------+--------------+-----------+\n",
      "|  0|  208|2517579| 562250|     562200|               367|       18064|         27|            65|         43|\n",
      "+---+-----+-------+-------+-----------+------------------+------------+-----------+--------------+-----------+\n",
      "\n"
     ]
    },
    {
     "name": "stderr",
     "output_type": "stream",
     "text": [
      "                                                                                "
     ]
    }
   ],
   "source": [
    "print(\"Valores nulos en books_data.csv:\")\n",
    "books_df.select([count(when(col(c).isNull(), c)).alias(c) for c in books_df.columns]).show()\n",
    "\n",
    "print(\"Valores nulos en Books_rating.csv:\")\n",
    "ratings_df.select([count(when(col(c).isNull(), c)).alias(c) for c in ratings_df.columns]).show()\n",
    "\n"
   ]
  },
  {
   "cell_type": "code",
   "execution_count": null,
   "id": "7d69575f",
   "metadata": {
    "id": "7d69575f",
    "outputId": "04d9e2ac-848a-47aa-87f1-041173a63e44"
   },
   "outputs": [
    {
     "name": "stdout",
     "output_type": "stream",
     "text": [
      "Estadísticas books_data.csv:\n"
     ]
    },
    {
     "name": "stderr",
     "output_type": "stream",
     "text": [
      "                                                                                "
     ]
    },
    {
     "name": "stdout",
     "output_type": "stream",
     "text": [
      "+-------+--------------------+--------------------+--------------------+--------------------+--------------------+--------------------+--------------------+--------------------+------------------+\n",
      "|summary|               Title|         description|             authors|               image|         previewLink|           publisher|            infoLink|          categories|      ratingsCount|\n",
      "+-------+--------------------+--------------------+--------------------+--------------------+--------------------+--------------------+--------------------+--------------------+------------------+\n",
      "|  count|              212403|              144047|              181153|              161213|              188349|              139274|              188103|              171880|             43432|\n",
      "|   mean|   3823.672941176471|  1.4285714285714286|              1578.4|              1184.0|            Infinity|             3734.75|   1989.054693877551|  1983.7334777898159| 56.31520537852275|\n",
      "| stddev|  10717.999589636447|  0.9759000729485332|  1278.7901502106834|   959.3546076180041|                 NaN|  10193.316327911616|   94.83861134693093|  142.43423125699238|329.20879859753734|\n",
      "|    min|  \"\"\" Film technique|              \"\" and| \"\" \"\"I'm a Littl...| \"\" \"\"In Honor of...| \"\" \"\"The Barefoo...| \"\" \"\"Skipper Ire...| \"\" Rawlins says....| \"\" Knox's quirky...|                 1|\n",
      "|    max|you can do anythi...|�Una novela llam�...|” “Jeanie with th...|” “sexual napalm…...|” headlines eight...|                펜립|        秀和システム|�� folk art is a ...|              4572|\n",
      "+-------+--------------------+--------------------+--------------------+--------------------+--------------------+--------------------+--------------------+--------------------+------------------+\n",
      "\n",
      "Ratings únicos en books_data.csv:\n",
      "+------------+\n",
      "|ratingsCount|\n",
      "+------------+\n",
      "|        1990|\n",
      "|          31|\n",
      "|          85|\n",
      "|          65|\n",
      "|          53|\n",
      "|          78|\n",
      "|         375|\n",
      "|         108|\n",
      "|         155|\n",
      "|          34|\n",
      "|        2003|\n",
      "|        2007|\n",
      "|          28|\n",
      "|         210|\n",
      "|        3296|\n",
      "|          76|\n",
      "|          26|\n",
      "|          27|\n",
      "|        3270|\n",
      "|         332|\n",
      "+------------+\n",
      "only showing top 20 rows\n",
      "\n",
      "Estadísticas Books_rating.csv:\n"
     ]
    },
    {
     "name": "stderr",
     "output_type": "stream",
     "text": [
      "[Stage 69:===========================================>            (17 + 5) / 22]"
     ]
    },
    {
     "name": "stdout",
     "output_type": "stream",
     "text": [
      "+-------+--------------------+--------------------+--------------------+-------------------+-----------+-------------------+------------------+--------------------+--------------------+--------------------+\n",
      "|summary|                  Id|               Title|               Price|            User_id|profileName| review/helpfulness|      review/score|         review/time|      review/summary|         review/text|\n",
      "+-------+--------------------+--------------------+--------------------+-------------------+-----------+-------------------+------------------+--------------------+--------------------+--------------------+\n",
      "|  count|             3000000|             2999792|              482421|            2437750|    2437800|            2999633|           2981936|             2999973|             2999935|             2999957|\n",
      "|   mean|1.0568515696607149E9|   2012.796651763537|  21.767951161877054|  18.29299003322259|        NaN|3.285048033703448E8| 1656.860421970827|1.1270533345949814E9|            Infinity|  9.95368319174848E8|\n",
      "| stddev| 1.284488524833734E9|  1536.7533549608797|   26.21155241772817|  21.99284402625621|        NaN| 5.46938050416698E8|1427549.9863179324|1.6715719402140123E8|                 NaN| 4.227222142880359E8|\n",
      "|    min|          0001047604|  \"\"\" Film technique|              \"\" and| \"\" Film acting \"\"\"|          \u001a|      #1 Bestse...\"|               1.0| \"\"Cards of your ...| \"\"The Child Manu...|\u0011The Tao of Muham...|\n",
      "|    max|          B0064P287I|you can do anythi...|: A guide to loca...|      AZZZZW74AAX75|    ~~~~~~~|                 xo|        1.295568E9|        sideshowmatt|~~~~~~~~~~~~~~~~~...|~~~~~~~~~~~~~~~~~...|\n",
      "+-------+--------------------+--------------------+--------------------+-------------------+-----------+-------------------+------------------+--------------------+--------------------+--------------------+\n",
      "\n"
     ]
    },
    {
     "name": "stderr",
     "output_type": "stream",
     "text": [
      "                                                                                "
     ]
    }
   ],
   "source": [
    "print(\"Estadísticas books_data.csv:\")\n",
    "books_df.describe().show()\n",
    "\n",
    "print(\"Ratings únicos en books_data.csv:\")\n",
    "books_df.select(\"ratingsCount\").distinct().show()\n",
    "\n",
    "print(\"Estadísticas Books_rating.csv:\")\n",
    "ratings_df.describe().show()\n"
   ]
  },
  {
   "cell_type": "markdown",
   "id": "7fe901b2",
   "metadata": {
    "id": "7fe901b2"
   },
   "source": [
    "# **Proyecto | Base de Datos de Big Data**"
   ]
  },
  {
   "cell_type": "markdown",
   "id": "8665e3d2",
   "metadata": {
    "id": "8665e3d2"
   },
   "source": [
    "## **PARTICIONAMIENTO**"
   ]
  },
  {
   "cell_type": "code",
   "execution_count": null,
   "id": "9d3461de",
   "metadata": {
    "id": "9d3461de"
   },
   "outputs": [],
   "source": [
    "from pyspark.sql.functions import col\n",
    "\n",
    "# Asegúrate de filtrar registros que no tengan nulos en estas dos columnas\n",
    "df_clean = books_df.join(ratings_df, on=\"Title\") \\\n",
    "    .filter((col(\"ratingsCount\").isNotNull()) & (col(\"review/score\").isNotNull()))\n"
   ]
  },
  {
   "cell_type": "code",
   "execution_count": null,
   "id": "047f2e06",
   "metadata": {
    "id": "047f2e06",
    "outputId": "fb0fe4c2-0e22-45fa-981d-be43991202f3"
   },
   "outputs": [
    {
     "name": "stderr",
     "output_type": "stream",
     "text": [
      "[Stage 73:=====================================================>  (21 + 1) / 22]"
     ]
    },
    {
     "name": "stdout",
     "output_type": "stream",
     "text": [
      "1413821\n"
     ]
    },
    {
     "name": "stderr",
     "output_type": "stream",
     "text": [
      "                                                                                "
     ]
    }
   ],
   "source": [
    "total = df_clean.count()\n",
    "print(total)\n"
   ]
  },
  {
   "cell_type": "code",
   "execution_count": null,
   "id": "68c3f08a-c50c-4f37-bd87-b66394d60022",
   "metadata": {
    "id": "68c3f08a-c50c-4f37-bd87-b66394d60022",
    "outputId": "9826bbfd-202e-42db-e6d7-9fa010283939"
   },
   "outputs": [
    {
     "name": "stderr",
     "output_type": "stream",
     "text": [
      "[Stage 82:===========================================>            (17 + 5) / 22]"
     ]
    },
    {
     "name": "stdout",
     "output_type": "stream",
     "text": [
      "+-------+-----------------+------------------+\n",
      "|summary|     ratingsCount|      review/score|\n",
      "+-------+-----------------+------------------+\n",
      "|  count|          1413821|           1413821|\n",
      "|   mean|302.0177313818369| 4.214017191709559|\n",
      "| stddev|814.8520705691591|1.2886346716959942|\n",
      "|    min|                1|               1.0|\n",
      "|    max|             4572|             327.0|\n",
      "+-------+-----------------+------------------+\n",
      "\n"
     ]
    },
    {
     "name": "stderr",
     "output_type": "stream",
     "text": [
      "                                                                                "
     ]
    }
   ],
   "source": [
    "df_clean.select(\"ratingsCount\",\"review/score\").describe().show()"
   ]
  },
  {
   "cell_type": "code",
   "execution_count": null,
   "id": "76568c3f",
   "metadata": {
    "id": "76568c3f",
    "outputId": "e8d7364b-cbf5-4fee-d480-c2d611790a86"
   },
   "outputs": [
    {
     "name": "stderr",
     "output_type": "stream",
     "text": [
      "                                                                                "
     ]
    }
   ],
   "source": [
    "total = df_clean.count()\n",
    "\n",
    "# A: ratingsCount (popularidad)\n",
    "p_a = df_clean.filter(col(\"ratingsCount\") <= 1000).count() / total\n",
    "p_b = 1 - p_a\n",
    "p_c = df_clean.filter(col(\"review/score\") < 4.0).count() / total\n",
    "p_d = df_clean.filter(col(\"review/score\") >= 4.0).count() / total\n",
    "\n",
    "# B: review/score (percepción)\n",
    "p_c = df_clean.filter(col(\"review/score\") < 4.0).count() / total\n",
    "p_d = 1 - p_c"
   ]
  },
  {
   "cell_type": "code",
   "execution_count": null,
   "id": "b244db4a-c312-444c-8ddf-d622cb277880",
   "metadata": {
    "id": "b244db4a-c312-444c-8ddf-d622cb277880",
    "outputId": "506b1069-c3b0-446a-b024-87ce269bc298"
   },
   "outputs": [
    {
     "name": "stdout",
     "output_type": "stream",
     "text": [
      "A. a: 0.9011897545728915\n",
      "B. b: 0.09881024542710848\n",
      "C. c: 0.20372310214659423\n",
      "D. d: 0.7962768978534058\n"
     ]
    }
   ],
   "source": [
    "#Probabilidades de Ocurrencia\n",
    "print(\"A. a:\", p_a) # Probabilidad de a (ratingsCount <= 1000)\n",
    "print(\"B. b:\", p_b) # Probabilidad de b (ratingsCount > 1000)\n",
    "print(\"C. c:\", p_c) # Probabilidad de c (review/score < 4.0)\n",
    "print(\"D. d:\", p_d) # Probabilidad de d (review/score >= 4.0)"
   ]
  },
  {
   "cell_type": "code",
   "execution_count": null,
   "id": "e7eddf06",
   "metadata": {
    "id": "e7eddf06"
   },
   "outputs": [],
   "source": [
    "# Probabilidades conjuntas\n",
    "p_ac = p_a * p_c  # Probabilidad de a ∧ c (ratingsCount <= 1000 y review/score < 4.0)\n",
    "p_ad = p_a * p_d  # Probabilidad de a ∧ d (ratingsCount <= 1000 y review/score >= 4.0)\n",
    "p_bc = p_b * p_c  # Probabilidad de b ∧ c (ratingsCount > 1000 y review/score < 4.0)\n",
    "p_bd = p_b * p_d  # Probabilidad de b ∧ d (ratingsCount > 1000 y review/score >= 4.0)\n"
   ]
  },
  {
   "cell_type": "code",
   "execution_count": null,
   "id": "9f8e0c1f",
   "metadata": {
    "id": "9f8e0c1f",
    "outputId": "74dc4fee-0d90-48e7-8cd0-0193f5fa600a"
   },
   "outputs": [
    {
     "name": "stdout",
     "output_type": "stream",
     "text": [
      "A. a ∧ c: 0.18359317242431736\n",
      "B. a ∧ d: 0.7175965821485742\n",
      "C. b ∧ c: 0.020129929722276865\n",
      "D. b ∧ d: 0.07868031570483162\n"
     ]
    }
   ],
   "source": [
    "#Probabilidades de Ocurrencia\n",
    "print(\"A. a ∧ c:\", p_ac)\n",
    "print(\"B. a ∧ d:\", p_ad)\n",
    "print(\"C. b ∧ c:\", p_bc)\n",
    "print(\"D. b ∧ d:\", p_bd)\n"
   ]
  },
  {
   "cell_type": "markdown",
   "id": "aca74434",
   "metadata": {
    "id": "aca74434"
   },
   "source": [
    "## **Extracción de submuestras a partir de las reglas de particionamiento generadas**"
   ]
  },
  {
   "cell_type": "markdown",
   "id": "12af0515",
   "metadata": {
    "id": "12af0515"
   },
   "source": [
    "Combinación A → ratingsCount ≤ 1000 y score < 4.0"
   ]
  },
  {
   "cell_type": "code",
   "execution_count": null,
   "id": "21b04aba",
   "metadata": {
    "id": "21b04aba",
    "outputId": "bee90151-6710-4a15-b46d-5c8dfc4bdfd2"
   },
   "outputs": [
    {
     "name": "stderr",
     "output_type": "stream",
     "text": [
      "[Stage 145:===============================================>       (19 + 3) / 22]"
     ]
    },
    {
     "name": "stdout",
     "output_type": "stream",
     "text": [
      "+--------------------+--------------------+--------------------+--------------------+--------------------+--------------------+-------------+--------------------+--------------------+------------+----------+-----+--------------+--------------------+------------------+------------+-----------+--------------------+--------------------+\n",
      "|               Title|         description|             authors|               image|         previewLink|           publisher|publishedDate|            infoLink|          categories|ratingsCount|        Id|Price|       User_id|         profileName|review/helpfulness|review/score|review/time|      review/summary|         review/text|\n",
      "+--------------------+--------------------+--------------------+--------------------+--------------------+--------------------+-------------+--------------------+--------------------+------------+----------+-----+--------------+--------------------+------------------+------------+-----------+--------------------+--------------------+\n",
      "|\"\"\"Could Be Worse...|\"\"\"Unexcitable Gr...| ['James Stevenson']|http://books.goog...|http://books.goog...|      Harper Collins|   1987-05-21|http://books.goog...|['Juvenile Fiction']|           2|B000EWIOUW| NULL|A2HXGVR8JEJY4B|\"N Anvar \"\"KidsMo...|              0/18|         1.0| 1193356800|I would give it 0...|My children and I...|\n",
      "|\"\"\"Could Be Worse...|\"\"\"Unexcitable Gr...| ['James Stevenson']|http://books.goog...|http://books.goog...|      Harper Collins|   1987-05-21|http://books.goog...|['Juvenile Fiction']|           2|B000EWIOUW| NULL|   AEKWD5WIFP6|\"Shanna A. Gonzal...|               0/0|         3.0| 1250726400|A Fun Flight of F...|\"Nothing new ever...|\n",
      "|\"Free African Ame...|                NULL|    ['Paul Heinegg']|http://books.goog...|http://books.goog...|Genealogical Publ...|   1997-01-01|http://books.goog...|['African America...|           1|B0006P3TY8| NULL|A2YITM6TVZT3D9|Ned Heite (eheite...|              7/11|         1.0|  900892800|Useful collection...|This would be a u...|\n",
      "|\"Free African Ame...|                NULL|    ['Paul Heinegg']|http://books.goog...|http://books.goog...|Genealogical Publ...|   1997-01-01|http://books.goog...|['African America...|           1|B0006P3TY8| NULL| AH1GXDU4LA9T2|   Carolina Magnolia|              5/10|         1.0|  997315200|A Great Disappoin...|Having hit many a...|\n",
      "|\"Great Sales Peop...|Sales is the most...|['Joe Miller', 'P...|http://books.goog...|http://books.goog...|Academic Learning...|   2005-01-01|http://books.goog...|['Business & Econ...|           2|1414042078| NULL|          NULL|                NULL|               0/0|         3.0| 1081123200|  Necessary Purchase|This book will no...|\n",
      "+--------------------+--------------------+--------------------+--------------------+--------------------+--------------------+-------------+--------------------+--------------------+------------+----------+-----+--------------+--------------------+------------------+------------+-----------+--------------------+--------------------+\n",
      "only showing top 5 rows\n",
      "\n"
     ]
    },
    {
     "name": "stderr",
     "output_type": "stream",
     "text": [
      "                                                                                "
     ]
    }
   ],
   "source": [
    "df_A = df_clean.filter((col(\"ratingsCount\") <= 1000) & (col(\"review/score\") < 4.0))\n",
    "df_A.show(5)\n"
   ]
  },
  {
   "cell_type": "markdown",
   "id": "9cc86da3",
   "metadata": {
    "id": "9cc86da3"
   },
   "source": [
    "Combinación B → ratingsCount ≤ 1000 y score ≥ 4.0"
   ]
  },
  {
   "cell_type": "code",
   "execution_count": null,
   "id": "e64ff657",
   "metadata": {
    "id": "e64ff657",
    "outputId": "67f32a01-ec62-4089-dd71-6808b8dc7ad3"
   },
   "outputs": [
    {
     "name": "stderr",
     "output_type": "stream",
     "text": [
      "[Stage 150:=============================================>         (18 + 4) / 22]"
     ]
    },
    {
     "name": "stdout",
     "output_type": "stream",
     "text": [
      "+--------------------+--------------------+--------------------+--------------------+--------------------+-------------------+-------------+--------------------+-------------+------------+----------+-----+--------------+-------------+------------------+------------+-----------+--------------------+--------------------+\n",
      "|               Title|         description|             authors|               image|         previewLink|          publisher|publishedDate|            infoLink|   categories|ratingsCount|        Id|Price|       User_id|  profileName|review/helpfulness|review/score|review/time|      review/summary|         review/text|\n",
      "+--------------------+--------------------+--------------------+--------------------+--------------------+-------------------+-------------+--------------------+-------------+------------+----------+-----+--------------+-------------+------------------+------------+-----------+--------------------+--------------------+\n",
      "|\"Discovery of the...|This is the accou...|['Robert D. Balla...|http://books.goog...|http://books.goog...|Madison Press Books|   1987-01-01|http://books.goog...|['Derelicts']|           2|0340505206| NULL|          NULL|         NULL|             12/13|         5.0|  907200000|Absolutely grippi...|Beautiful picture...|\n",
      "|\"Discovery of the...|This is the accou...|['Robert D. Balla...|http://books.goog...|http://books.goog...|Madison Press Books|   1987-01-01|http://books.goog...|['Derelicts']|           2|0340505206| NULL|A3ADUOVTY3TIRU|Y2bjs Reviews|               5/5|         5.0| 1168128000|      Excellent Book|This is a sensati...|\n",
      "|\"Discovery of the...|This is the accou...|['Robert D. Balla...|http://books.goog...|http://books.goog...|Madison Press Books|   1987-01-01|http://books.goog...|['Derelicts']|           2|0340505206| NULL|A1XBK9DNL0XPZZ|Severin Olson|               4/4|         5.0| 1118534400|HONEST LOOK AT DI...|Ballard's book ta...|\n",
      "|\"Discovery of the...|This is the accou...|['Robert D. Balla...|http://books.goog...|http://books.goog...|Madison Press Books|   1987-01-01|http://books.goog...|['Derelicts']|           2|0340505206| NULL|A3ADUOVTY3TIRU|Y2bjs Reviews|               3/3|         5.0| 1168128000|      Excellent Book|This is a sensati...|\n",
      "|\"Discovery of the...|This is the accou...|['Robert D. Balla...|http://books.goog...|http://books.goog...|Madison Press Books|   1987-01-01|http://books.goog...|['Derelicts']|           2|0340505206| NULL|A2W7WH9V5OKUA9|Ned Middleton|               2/2|         5.0| 1095724800|A most outstandin...|\"Dr Robert Ballar...|\n",
      "+--------------------+--------------------+--------------------+--------------------+--------------------+-------------------+-------------+--------------------+-------------+------------+----------+-----+--------------+-------------+------------------+------------+-----------+--------------------+--------------------+\n",
      "only showing top 5 rows\n",
      "\n"
     ]
    },
    {
     "name": "stderr",
     "output_type": "stream",
     "text": [
      "                                                                                "
     ]
    }
   ],
   "source": [
    "df_B = df_clean.filter((col(\"ratingsCount\") <= 1000) & (col(\"review/score\") >= 4.0))\n",
    "df_B.show(5)\n"
   ]
  },
  {
   "cell_type": "markdown",
   "id": "9ffe12ab",
   "metadata": {
    "id": "9ffe12ab"
   },
   "source": [
    " Combinación C → ratingsCount > 1000 y score < 4.0"
   ]
  },
  {
   "cell_type": "code",
   "execution_count": null,
   "id": "4346bc4d",
   "metadata": {
    "id": "4346bc4d",
    "outputId": "74b8f228-115e-42ab-c136-e7a1536df33f"
   },
   "outputs": [
    {
     "name": "stderr",
     "output_type": "stream",
     "text": [
      "[Stage 155:=============================================>         (18 + 4) / 22]"
     ]
    },
    {
     "name": "stdout",
     "output_type": "stream",
     "text": [
      "+--------------------+--------------------+--------------------+--------------------+--------------------+--------------------+-------------+--------------------+--------------------+------------+----------+------+--------------+--------------------+------------------+------------+-----------+--------------------+--------------------+\n",
      "|               Title|         description|             authors|               image|         previewLink|           publisher|publishedDate|            infoLink|          categories|ratingsCount|        Id| Price|       User_id|         profileName|review/helpfulness|review/score|review/time|      review/summary|         review/text|\n",
      "+--------------------+--------------------+--------------------+--------------------+--------------------+--------------------+-------------+--------------------+--------------------+------------+----------+------+--------------+--------------------+------------------+------------+-----------+--------------------+--------------------+\n",
      "|La Doctora: The J...|\"This doctor stil...| alligator bites ...| La Doctora offer...| self-discovery a...|    ['Linnea Smith']|         NULL|http://books.goog...|Pfeifer-Hamilton Pub|        1999|1570251401|  NULL|          NULL|                NULL|             13/18|         3.0|  958694400|The Great Doctora...|This is somewhat ...|\n",
      "|Neuropsychologica...|\"Neuropsychologic...| normally in seve...| into one reading...| who has combined...|['Gary Groth-Marn...|         NULL|http://books.goog...|John Wiley & Sons...|        2000|0471193259|103.78|A268QM4AOCO9NI|\"C. Weaver \"\"Psyc...|             14/14|         2.0| 1062115200|    Check elsewhere!|Some of the norms...|\n",
      "|4 Zinas: A Story ...|\"Zina Baker Hunti...| grew up to marry...|           education| and the dignity ...|['Martha Sonntag ...|         NULL|http://books.goog...|Smith Research As...|        2000|B000MUGWFK|  NULL|A2SWRQ6H39T0EE|           C. Pierce|              0/10|         1.0| 1168905600|Do not read this ...|It has been a whi...|\n",
      "|Critical Essays o...|\"A collection of ...|                Inc.|            Portland|                 OR\"|['Robert F. Gleck...|         NULL|http://books.goog...|Macmillan Referen...|        1991|0816188599|  NULL|A2WP1IY2XSQCIA|Anonymous (bob@ao...|              0/11|         1.0|  923356800|            it stunk|it was the worst ...|\n",
      "|Tim Burton (Virgi...|\"This indispensab...| as well as side ...| fresh and contem...| this is the esse...|['Jim Smith', 'Ji...|         NULL|http://books.goog...|Virgin Books Limited|        2002|B000HWYS54|  NULL| AYFH5EYRZHK8W|               julie|               0/0|         3.0| 1329523200|whats the real pu...|looking at the re...|\n",
      "+--------------------+--------------------+--------------------+--------------------+--------------------+--------------------+-------------+--------------------+--------------------+------------+----------+------+--------------+--------------------+------------------+------------+-----------+--------------------+--------------------+\n",
      "only showing top 5 rows\n",
      "\n"
     ]
    },
    {
     "name": "stderr",
     "output_type": "stream",
     "text": [
      "                                                                                "
     ]
    }
   ],
   "source": [
    "df_C = df_clean.filter((col(\"ratingsCount\") > 1000) & (col(\"review/score\") < 4.0))\n",
    "df_C.show(5)\n"
   ]
  },
  {
   "cell_type": "markdown",
   "id": "fbb40db0",
   "metadata": {
    "id": "fbb40db0"
   },
   "source": [
    "Combinación D → ratingsCount > 1000 y score ≥ 4.0"
   ]
  },
  {
   "cell_type": "code",
   "execution_count": null,
   "id": "0ee55299",
   "metadata": {
    "id": "0ee55299",
    "outputId": "275d8bfc-8e83-4824-fde1-6fce56c12a06"
   },
   "outputs": [
    {
     "name": "stderr",
     "output_type": "stream",
     "text": [
      "[Stage 161:==========================================>            (17 + 5) / 22]"
     ]
    },
    {
     "name": "stdout",
     "output_type": "stream",
     "text": [
      "+--------------------+--------------------+--------------------+-----------+-----------------+--------------------+-------------+--------------------+----------+------------+----------+-----+--------------+--------------------+------------------+------------+-----------+--------------------+--------------------+\n",
      "|               Title|         description|             authors|      image|      previewLink|           publisher|publishedDate|            infoLink|categories|ratingsCount|        Id|Price|       User_id|         profileName|review/helpfulness|review/score|review/time|      review/summary|         review/text|\n",
      "+--------------------+--------------------+--------------------+-----------+-----------------+--------------------+-------------+--------------------+----------+------------+----------+-----+--------------+--------------------+------------------+------------+-----------+--------------------+--------------------+\n",
      "|Raymond Chandler:...|\"Later Novels and...|\"\" in which Chand...| publishing| and filmmaking.\"|['Raymond Chandler']|         NULL|http://books.goog...|      NULL|        1995|1883011086|23.36|A20ZXT5ZXSKOLU|               Lenny|               0/0|         5.0| 1356652800|Raymond Chandler ...|...and that's may...|\n",
      "|Raymond Chandler:...|\"Later Novels and...|\"\" in which Chand...| publishing| and filmmaking.\"|['Raymond Chandler']|         NULL|http://books.goog...|      NULL|        1995|1883011086|23.36|A2F3M93RRLFQNJ|           mrliteral|               0/0|         5.0| 1346889600|The Simple Art of...|\"For that elusive...|\n",
      "|Raymond Chandler:...|\"Later Novels and...|\"\" in which Chand...| publishing| and filmmaking.\"|['Raymond Chandler']|         NULL|http://books.goog...|      NULL|        1995|1883011086|23.36|A3MV1KKHX51FYT|      Acute Observer|               0/0|         5.0| 1315353600|Novels, Essays, L...|\"Chandler, Later ...|\n",
      "|Raymond Chandler:...|\"Later Novels and...|\"\" in which Chand...| publishing| and filmmaking.\"|['Raymond Chandler']|         NULL|http://books.goog...|      NULL|        1995|1883011086|23.36|A37W9VKW96KKPQ|\"Gonzales Vader \"...|               0/0|         5.0| 1239408000|Couldn't be much ...|An excellent and ...|\n",
      "|Raymond Chandler:...|\"Later Novels and...|\"\" in which Chand...| publishing| and filmmaking.\"|['Raymond Chandler']|         NULL|http://books.goog...|      NULL|        1995|1883011086|23.36| APCE5RPRQBMNB|         Strelnakoff|               0/0|         5.0| 1233619200|A must read for a...|\"The two volumns ...|\n",
      "+--------------------+--------------------+--------------------+-----------+-----------------+--------------------+-------------+--------------------+----------+------------+----------+-----+--------------+--------------------+------------------+------------+-----------+--------------------+--------------------+\n",
      "only showing top 5 rows\n",
      "\n"
     ]
    },
    {
     "name": "stderr",
     "output_type": "stream",
     "text": [
      "                                                                                "
     ]
    }
   ],
   "source": [
    "df_D = df_clean.filter((col(\"ratingsCount\") > 1000) & (col(\"review/score\") >= 4.0))\n",
    "df_D.show(5)\n"
   ]
  },
  {
   "cell_type": "code",
   "execution_count": null,
   "id": "6f179fa4-31a3-484b-a07e-233e23317487",
   "metadata": {
    "id": "6f179fa4-31a3-484b-a07e-233e23317487"
   },
   "outputs": [],
   "source": []
  }
 ],
 "metadata": {
  "colab": {
   "provenance": []
  },
  "kernelspec": {
   "display_name": "Python 3 (ipykernel)",
   "language": "python",
   "name": "python3"
  },
  "language_info": {
   "codemirror_mode": {
    "name": "ipython",
    "version": 3
   },
   "file_extension": ".py",
   "mimetype": "text/x-python",
   "name": "python",
   "nbconvert_exporter": "python",
   "pygments_lexer": "ipython3",
   "version": "3.11.12"
  }
 },
 "nbformat": 4,
 "nbformat_minor": 5
}
